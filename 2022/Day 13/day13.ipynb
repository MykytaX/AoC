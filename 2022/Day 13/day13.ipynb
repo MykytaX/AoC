{
 "cells": [
  {
   "cell_type": "code",
   "execution_count": null,
   "metadata": {},
   "outputs": [],
   "source": [
    "f = open(\"data.txt\")\n",
    "everything = f.read()\n",
    "pairs = everything.split(\"\\n\\n\")\n",
    "print(pairs)"
   ]
  }
 ],
 "metadata": {
  "kernelspec": {
   "display_name": "Python 3",
   "language": "python",
   "name": "python3"
  },
  "language_info": {
   "codemirror_mode": {
    "name": "ipython",
    "version": 3
   },
   "file_extension": ".py",
   "mimetype": "text/x-python",
   "name": "python",
   "nbconvert_exporter": "python",
   "pygments_lexer": "ipython3",
   "version": "3.10.1"
  },
  "orig_nbformat": 4,
  "vscode": {
   "interpreter": {
    "hash": "c7a2dc2c8b3b293433fae3b26a6d34e9f45be5b171e3c1a4bbd7698cfc2d20a7"
   }
  }
 },
 "nbformat": 4,
 "nbformat_minor": 2
}
